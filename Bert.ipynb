{
 "cells": [
  {
   "cell_type": "code",
   "execution_count": 38,
   "metadata": {},
   "outputs": [],
   "source": [
    "import numpy as np\n",
    "import cv2\n",
    "import textwrap\n",
    "import operator\n",
    "import functools\n",
    "from fitbert import FitBert\n",
    "import pytesseract"
   ]
  },
  {
   "cell_type": "code",
   "execution_count": 39,
   "metadata": {},
   "outputs": [],
   "source": [
    "pytesseract.pytesseract.tesseract_cmd = r'C:\\Program Files\\Tesseract-OCR\\tesseract.exe'"
   ]
  },
  {
   "cell_type": "code",
   "execution_count": 40,
   "metadata": {},
   "outputs": [],
   "source": [
    "img = cv2.imread('1.jpg', 0)\n",
    "text = pytesseract.image_to_string(img)"
   ]
  },
  {
   "cell_type": "code",
   "execution_count": 41,
   "metadata": {},
   "outputs": [
    {
     "name": "stdout",
     "output_type": "stream",
     "text": [
      "Name:\n",
      "\n",
      "Nouns\n",
      "Directions: Circle the words in the box that are nouns. Then, use those nouns to\n",
      "complete the sentences below.\n",
      "\n",
      "book run turtle globe pig\n",
      "\n",
      "ball sing song jump pencil\n",
      "\n",
      "table happy sip hand house\n",
      "\n",
      " \n",
      "\n",
      "1. lused the to draw a picture for my mom.\n",
      "2. Every night, we read a together in bed.\n",
      "3. The dirty, little played in the mud puddle.\n",
      "\n",
      "4. He put the pumpkin pie onto the kitchen.\n",
      "\n",
      "5. We used the in school today to find Africa.\n",
      "\n",
      "6. Sean cut his on the sharp edge of the desk.\n",
      "\n",
      "7. On the PBS animal show, a was rescued.\n",
      "\n",
      "8. My kitty likes to play with his new, rubber\n",
      "\n",
      "9. It was my turn to pick the for our piano teacher.\n",
      "\n",
      "10. Dad wants to paint the blue, but mom doesn’t.\n",
      "\n",
      "©www.HaveFunTeaching.com\n",
      "\f",
      "\n"
     ]
    }
   ],
   "source": [
    "print(text)"
   ]
  },
  {
   "cell_type": "code",
   "execution_count": 42,
   "metadata": {},
   "outputs": [],
   "source": [
    "image = cv2.cvtColor(img, cv2.COLOR_BGR2RGB)\n",
    "gray = cv2.cvtColor(image, cv2.COLOR_RGB2GRAY)\n",
    "_, binary = cv2.threshold(gray, 225, 255, cv2.THRESH_BINARY_INV)\n",
    "contours, hierarchy = cv2.findContours(binary, cv2.RETR_TREE, cv2.CHAIN_APPROX_SIMPLE)\n",
    "idx = 0\n",
    "mask = np.zeros_like(img)\n",
    "cv2.drawContours(mask, sorted(contours, key=cv2.contourArea, reverse=True), idx, 255, -1)\n",
    "out = np.zeros_like(img)\n",
    "out[mask == 255] = img[mask == 255]\n",
    "\n",
    "\n",
    "text = pytesseract.image_to_string(out)"
   ]
  },
  {
   "cell_type": "code",
   "execution_count": 43,
   "metadata": {},
   "outputs": [],
   "source": [
    "def format_text(details):\n",
    "    parse_text = []\n",
    "    word_list = []\n",
    "    last_word = ''\n",
    "    for word in details['text']:\n",
    "        if word != '':\n",
    "            word_list.append(word)\n",
    "            last_word = word\n",
    "        if (last_word != '' and word == '') or (word == details['text'][-1]):\n",
    "            parse_text.append(word_list)\n",
    "            word_list = []\n",
    "\n",
    "    return parse_text"
   ]
  },
  {
   "cell_type": "code",
   "execution_count": 44,
   "metadata": {},
   "outputs": [],
   "source": [
    "def parse_text(threshold_img):\n",
    "    tesseract_config = r'--oem 3 --psm 6'\n",
    "    details = pytesseract.image_to_data(threshold_img, output_type=pytesseract.Output.DICT,\n",
    "                                        config=tesseract_config, lang='eng')\n",
    "    return details"
   ]
  },
  {
   "cell_type": "code",
   "execution_count": 45,
   "metadata": {},
   "outputs": [],
   "source": [
    "parsed_data = parse_text(out)\n",
    "arranged_text = format_text(parsed_data)\n",
    "options = functools.reduce(operator.iconcat, arranged_text, [])"
   ]
  },
  {
   "cell_type": "code",
   "execution_count": 46,
   "metadata": {},
   "outputs": [
    {
     "name": "stdout",
     "output_type": "stream",
     "text": [
      "['book', 'run', 'turtle', 'globe', 'pig', 'ball', 'sing', 'song', 'jump', 'pencil', 'table', 'happy', 'sip', 'hand', 'house']\n"
     ]
    }
   ],
   "source": [
    "print(options)"
   ]
  },
  {
   "cell_type": "code",
   "execution_count": 47,
   "metadata": {},
   "outputs": [
    {
     "name": "stdout",
     "output_type": "stream",
     "text": [
      "device: cuda\n",
      "using model: bert-large-uncased\n"
     ]
    },
    {
     "name": "stderr",
     "output_type": "stream",
     "text": [
      "Some weights of the model checkpoint at bert-large-uncased were not used when initializing BertForMaskedLM: ['cls.seq_relationship.weight', 'cls.seq_relationship.bias']\n",
      "- This IS expected if you are initializing BertForMaskedLM from the checkpoint of a model trained on another task or with another architecture (e.g. initializing a BertForSequenceClassification model from a BertForPretraining model).\n",
      "- This IS NOT expected if you are initializing BertForMaskedLM from the checkpoint of a model that you expect to be exactly identical (initializing a BertForSequenceClassification model from a BertForSequenceClassification model).\n"
     ]
    }
   ],
   "source": [
    "fb = FitBert()"
   ]
  },
  {
   "cell_type": "code",
   "execution_count": 48,
   "metadata": {},
   "outputs": [],
   "source": [
    "unmasked_string = \"We used the in school today to find Africa.\"\n",
    "span_to_mask = (17, 22)\n",
    "masked_string, masked = fb.mask(unmasked_string, span_to_mask)\n",
    "\n",
    "filled_in = fb.fitb(masked_string, options=options)"
   ]
  },
  {
   "cell_type": "code",
   "execution_count": 49,
   "metadata": {},
   "outputs": [
    {
     "name": "stdout",
     "output_type": "stream",
     "text": [
      "We used the in sc globe today to find Africa.\n"
     ]
    }
   ],
   "source": [
    "print(filled_in)"
   ]
  },
  {
   "cell_type": "code",
   "execution_count": null,
   "metadata": {},
   "outputs": [],
   "source": []
  }
 ],
 "metadata": {
  "kernelspec": {
   "display_name": "Python 3",
   "language": "python",
   "name": "python3"
  },
  "language_info": {
   "codemirror_mode": {
    "name": "ipython",
    "version": 3
   },
   "file_extension": ".py",
   "mimetype": "text/x-python",
   "name": "python",
   "nbconvert_exporter": "python",
   "pygments_lexer": "ipython3",
   "version": "3.8.5"
  }
 },
 "nbformat": 4,
 "nbformat_minor": 4
}
